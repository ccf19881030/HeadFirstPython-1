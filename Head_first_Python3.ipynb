{
  "nbformat": 4,
  "nbformat_minor": 0,
  "metadata": {
    "colab": {
      "name": "Head first Python3.ipynb",
      "version": "0.3.2",
      "provenance": [],
      "collapsed_sections": []
    },
    "kernelspec": {
      "name": "python3",
      "display_name": "Python 3"
    }
  },
  "cells": [
    {
      "cell_type": "markdown",
      "metadata": {
        "id": "view-in-github",
        "colab_type": "text"
      },
      "source": [
        "[View in Colaboratory](https://colab.research.google.com/github/yowenter/HeadFirstPython/blob/master/Head_first_Python3.ipynb)"
      ]
    },
    {
      "metadata": {
        "id": "-7w1qo2xEi_s",
        "colab_type": "text"
      },
      "cell_type": "markdown",
      "source": [
        "## 编程是做什么 ? \n",
        "编程，也就是一种创造的过程. 正如牛吃的是草，拉出来的是屎一样这么一个过程。\n",
        "在这里输入的是草，产出的是屎。\n",
        "所以， 一个过程，或者说是一个函数，会接受一个东西，然后吐出一个什么东西。\n",
        "那么，编程就是制造一个盒子，这个盒子有输入，有输出。\n",
        "制造一个iPhone，输入是手指的触摸，输出的是各种界面或声音。\n",
        "So，当我们定义一个函数时，\n",
        " \n",
        "```\n",
        "function (input ){\n",
        "do something;\n",
        "return output;\n",
        "}\n",
        "```\n",
        "\n",
        "每个函数都屏蔽了一些怎么做到的细节，这就是抽象。\n",
        "如果不出错，那么抽象永远不会泄漏。\n",
        "但如果出错，那么抽象泄漏，我们不得不与险恶的细节作斗争。\n",
        "互联网的应用，产生了多少这样必须用程序员的血汗喂养的机器，就是为了修复无穷无尽的bug出现时导致的抽象泄漏。\n"
      ]
    },
    {
      "metadata": {
        "id": "_VGFGSxMFBaU",
        "colab_type": "code",
        "colab": {
          "base_uri": "https://localhost:8080/",
          "height": 35
        },
        "outputId": "c0613dc5-ec42-493a-db07-5ddd2324572b"
      },
      "cell_type": "code",
      "source": [
        "# 输入 是 一个 字符串,  输出是 倒序的 字符串. \n",
        "\n",
        "\n",
        "def simpleIO(input):\n",
        "  return str(input)[::-1]\n",
        "\n",
        "\n",
        "print(simpleIO(\"I'M TAOGE \"))\n"
      ],
      "execution_count": 0,
      "outputs": [
        {
          "output_type": "stream",
          "text": [
            " EGOAT M'I\n"
          ],
          "name": "stdout"
        }
      ]
    },
    {
      "metadata": {
        "id": "yDK1dejNGa2E",
        "colab_type": "text"
      },
      "cell_type": "markdown",
      "source": [
        "## 编程的思想 \n",
        "\n",
        "Huh, 你把编程说得这么简单. 似乎有点不合常理啊 :-) \n",
        "\n",
        "要是这么简单的话, 那应该人人都能学得会编程. 但就我听说的话, 编程似乎是件很难的事(我读书少, 你可别骗我. )...\n",
        "\n",
        "So... 对大部分新手而言, 编程最难的地方在于一开始搭建开发环境, 安装各种编译软件 以及枯燥的作业 :-) \n",
        "\n",
        "事实上, 编程是一种强有力的工具, 在于连接万物.  Think about it, 人的各种感觉, 各种思想, 不都是接受一个个的输入, 然后产生的吗. \n",
        "大脑的神经, 就是一个个的神经突触, 信号在之间传递, 从而我们能看到, 能听到, 能吃到, 能感觉到这世界, 是真正的存在着的. \n",
        "你可以怀疑万物, 但你不能怀疑你自己的存在 :-)\n",
        "\n",
        "Um... 复杂产生于简单, 一个东西的基本要素如果不够简单, 那么,它便缺乏灵活性, 构造复杂系统的灵活性. \n",
        "\n",
        ":-)  , 我就是这样的喜欢说个没完....\n",
        "\n",
        "Ooook, 切入正题..\n",
        "\n",
        "如何从简单的输入输出(IO) 的函数, 构建出庞大的软件呢? \n",
        "\n",
        "Of Course, 这就是抽象了.\n",
        "\n",
        "### 抽象 \n",
        "\n",
        "关于抽象, \n",
        "\n",
        "\n",
        "\n",
        "\n",
        "\n"
      ]
    },
    {
      "metadata": {
        "id": "PfWeDPpJI7sU",
        "colab_type": "text"
      },
      "cell_type": "markdown",
      "source": [
        "## Exercise 1 \n",
        "\n",
        "\n",
        "\n",
        "1.  定义一个函数, 输入是一个列表. 求出这个列表所有数的和.\n",
        "2.  定义一个函数, 输入是一个列表. 求出这个列表所有数的平方的和.\n",
        "\n"
      ]
    },
    {
      "metadata": {
        "id": "RPll4vSWJiqp",
        "colab_type": "code",
        "colab": {
          "base_uri": "https://localhost:8080/",
          "height": 52
        },
        "outputId": "1fa5c92b-998e-4c9b-d1f7-02d75d18c9c1"
      },
      "cell_type": "code",
      "source": [
        "# Your Code Here.\n",
        "\n",
        "\n",
        "def sum_list(a_list):\n",
        "  # for item in a_list ... \n",
        "  pass \n",
        "\n",
        "\n",
        "def sum_square(a_list):\n",
        "  pass \n",
        "\n",
        "L = [1, 2, 3, 4, 5]\n",
        "\n",
        "print(\"Sum of list: %s\"%sum_list(L))\n",
        "\n",
        "print(\"Sum of square list: %s\"%sum_square(L))\n",
        "\n"
      ],
      "execution_count": 2,
      "outputs": [
        {
          "output_type": "stream",
          "text": [
            "Sum of list: None\n",
            "Sum of square list: None\n"
          ],
          "name": "stdout"
        }
      ]
    }
  ]
}