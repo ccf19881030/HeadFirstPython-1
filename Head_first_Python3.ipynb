{
  "nbformat": 4,
  "nbformat_minor": 0,
  "metadata": {
    "colab": {
      "name": "Head first Python3.ipynb",
      "version": "0.3.2",
      "provenance": [],
      "collapsed_sections": []
    },
    "kernelspec": {
      "name": "python3",
      "display_name": "Python 3"
    }
  },
  "cells": [
    {
      "cell_type": "markdown",
      "metadata": {
        "id": "view-in-github",
        "colab_type": "text"
      },
      "source": [
        "[View in Colaboratory](https://colab.research.google.com/github/yowenter/HeadFirstPython/blob/master/Head_first_Python3.ipynb)"
      ]
    },
    {
      "metadata": {
        "id": "-7w1qo2xEi_s",
        "colab_type": "text"
      },
      "cell_type": "markdown",
      "source": [
        "## 编程是做什么 ? \n",
        "编程，也就是一种创造的过程. 正如牛吃的是草，拉出来的是屎一样这么一个过程。\n",
        "在这里输入的是草，产出的是屎。\n",
        "所以， 一个过程，或者说是一个函数，会接受一个东西，然后吐出一个什么东西。\n",
        "那么，编程就是制造一个盒子，这个盒子有输入，有输出。\n",
        "制造一个iPhone，输入是手指的触摸，输出的是各种界面或声音。\n",
        "So，当我们定义一个函数时，\n",
        " \n",
        "```\n",
        "function (input ){\n",
        "do something;\n",
        "return output;\n",
        "}\n",
        "```\n",
        "\n",
        "每个函数都屏蔽了一些怎么做到的细节，这就是抽象。\n",
        "如果不出错，那么抽象永远不会泄漏。\n",
        "但如果出错，那么抽象泄漏，我们不得不与险恶的细节作斗争。\n",
        "互联网的应用，产生了多少这样必须用程序员的血汗喂养的机器，就是为了修复无穷无尽的bug出现时导致的抽象泄漏。\n"
      ]
    },
    {
      "metadata": {
        "id": "_VGFGSxMFBaU",
        "colab_type": "code",
        "colab": {
          "base_uri": "https://localhost:8080/",
          "height": 35
        },
        "outputId": "c0613dc5-ec42-493a-db07-5ddd2324572b"
      },
      "cell_type": "code",
      "source": [
        "# 输入 是 一个 字符串,  输出是 倒序的 字符串. \n",
        "\n",
        "\n",
        "def simpleIO(input):\n",
        "  return str(input)[::-1]\n",
        "\n",
        "\n",
        "print(simpleIO(\"I'M TAOGE \"))\n"
      ],
      "execution_count": 0,
      "outputs": [
        {
          "output_type": "stream",
          "text": [
            " EGOAT M'I\n"
          ],
          "name": "stdout"
        }
      ]
    },
    {
      "metadata": {
        "id": "yDK1dejNGa2E",
        "colab_type": "text"
      },
      "cell_type": "markdown",
      "source": [
        "## 编程的思想 \n",
        "\n",
        "Huh, 你把编程说得这么简单. 似乎有点不合常理啊 :-) \n",
        "\n",
        "要是这么简单的话, 那应该人人都能学得会编程. 但就我听说的话, 似乎编程是件很难的事(我读书少, 你可别骗我. )...\n",
        "\n",
        "\n"
      ]
    },
    {
      "metadata": {
        "id": "PfWeDPpJI7sU",
        "colab_type": "text"
      },
      "cell_type": "markdown",
      "source": [
        "## Exercise 1 \n",
        "\n",
        "\n",
        "\n",
        "1.  定义一个函数, 输入是一个列表. 求出这个列表所有数的和.\n",
        "2.  定义一个函数, 输入是一个列表. 求出这个列表所有数的平方的和.\n",
        "\n"
      ]
    },
    {
      "metadata": {
        "id": "RPll4vSWJiqp",
        "colab_type": "code",
        "colab": {
          "base_uri": "https://localhost:8080/",
          "height": 52
        },
        "outputId": "f03d0195-ed59-42eb-87b3-f39a4d50cc29"
      },
      "cell_type": "code",
      "source": [
        "# Your Code Here.\n",
        "\n",
        "import unittest\n",
        "\n",
        "def sum_list(a_list):\n",
        "  pass \n",
        "\n",
        "\n",
        "def sum_square(a_list):\n",
        "  pass \n",
        "\n",
        "\n",
        "\n",
        "\n",
        "print(sum_list([1,2,3,4,5])) \n",
        "\n",
        "print(sum_square([1,2])) \n",
        "\n"
      ],
      "execution_count": 0,
      "outputs": [
        {
          "output_type": "stream",
          "text": [
            "None\n",
            "None\n"
          ],
          "name": "stdout"
        }
      ]
    }
  ]
}